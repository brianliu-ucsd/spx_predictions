{
 "cells": [
  {
   "cell_type": "code",
   "execution_count": 1,
   "id": "25e54051",
   "metadata": {},
   "outputs": [],
   "source": [
    "import numpy as np\n",
    "import matplotlib.pyplot as plt\n",
    "import pandas as pd\n",
    "from sklearn.preprocessing import MinMaxScaler"
   ]
  },
  {
   "cell_type": "code",
   "execution_count": 2,
   "id": "b1b9c7cc",
   "metadata": {},
   "outputs": [],
   "source": [
    "# Read training data\n",
    "dataset_train = pd.read_csv('./../storage/v4_21milrows.csv', nrows=100000)"
   ]
  },
  {
   "cell_type": "code",
   "execution_count": 3,
   "id": "b1fb0aa2",
   "metadata": {},
   "outputs": [],
   "source": [
    "# Currently excluding DateTime (string) and support + resistance\n",
    "# Required format: Open, High, Low, Last, Volume, NumberOfTrades, BidVolume, AskVolume, Speed, Acceleration, Distance, VWAP\n",
    "exclude = ['DateTime', 'Support', 'Resistance']"
   ]
  },
  {
   "cell_type": "code",
   "execution_count": 4,
   "id": "dca3ff88",
   "metadata": {},
   "outputs": [],
   "source": [
    "dataset_train = dataset_train.drop(columns=exclude)"
   ]
  },
  {
   "cell_type": "code",
   "execution_count": 5,
   "id": "369418da",
   "metadata": {},
   "outputs": [],
   "source": [
    "# Filter out NaN and inf values (MinMaxScaler can't handle)\n",
    "dataset_train = dataset_train.fillna(0)\n",
    "dataset_train = dataset_train.replace(np.inf, 9999)\n",
    "dataset_train = dataset_train.replace(-np.inf, -9999)"
   ]
  },
  {
   "cell_type": "code",
   "execution_count": 6,
   "id": "eb19e4b6",
   "metadata": {},
   "outputs": [],
   "source": [
    "# Convert data into numpy array - use float32 to save memory\n",
    "training_set = dataset_train.values.astype('float32')"
   ]
  },
  {
   "cell_type": "code",
   "execution_count": 7,
   "id": "828c6067",
   "metadata": {},
   "outputs": [],
   "source": [
    "# Normalize dataset values\n",
    "sc = MinMaxScaler(feature_range=(0,1))\n",
    "training_set_scaled = sc.fit_transform(training_set)"
   ]
  },
  {
   "cell_type": "code",
   "execution_count": 8,
   "id": "110441c8",
   "metadata": {},
   "outputs": [],
   "source": [
    "# Define timesteps\n",
    "X_train = []\n",
    "y_train = []\n",
    "for i in range(60, len(training_set_scaled)):\n",
    "    X_train.append(training_set_scaled[i-60:i, 0])\n",
    "    y_train.append(training_set_scaled[i, 0])\n",
    "X_train, y_train = np.array(X_train), np.array(y_train)\n",
    "X_train = np.reshape(X_train, (X_train.shape[0], X_train.shape[1], 1))"
   ]
  },
  {
   "cell_type": "code",
   "execution_count": 9,
   "id": "4719d2e3",
   "metadata": {},
   "outputs": [],
   "source": [
    "from keras.models import Sequential\n",
    "from keras.layers import LSTM\n",
    "from keras.layers import Dropout\n",
    "from keras.layers import Dense"
   ]
  },
  {
   "cell_type": "code",
   "execution_count": 10,
   "id": "7214755b",
   "metadata": {},
   "outputs": [
    {
     "name": "stdout",
     "output_type": "stream",
     "text": [
      "Epoch 1/100\n",
      "1562/1562 [==============================] - 141s 88ms/step - loss: 0.0031\n",
      "Epoch 2/100\n",
      "1562/1562 [==============================] - 138s 88ms/step - loss: 5.8337e-04\n",
      "Epoch 3/100\n",
      "1562/1562 [==============================] - 138s 88ms/step - loss: 3.8273e-04\n",
      "Epoch 4/100\n",
      "1562/1562 [==============================] - 137s 88ms/step - loss: 2.8821e-04\n",
      "Epoch 5/100\n",
      "1562/1562 [==============================] - 135s 86ms/step - loss: 2.5552e-04\n",
      "Epoch 6/100\n",
      "1562/1562 [==============================] - 135s 86ms/step - loss: 2.2586e-04\n",
      "Epoch 7/100\n",
      "1562/1562 [==============================] - 135s 86ms/step - loss: 2.1951e-04\n",
      "Epoch 8/100\n",
      "1562/1562 [==============================] - 135s 86ms/step - loss: 2.0684e-04\n",
      "Epoch 9/100\n",
      "1562/1562 [==============================] - 135s 86ms/step - loss: 2.0501e-04\n",
      "Epoch 10/100\n",
      "1562/1562 [==============================] - 135s 86ms/step - loss: 1.9673e-04\n",
      "Epoch 11/100\n",
      "1562/1562 [==============================] - 135s 86ms/step - loss: 1.9599e-04\n",
      "Epoch 12/100\n",
      "1562/1562 [==============================] - 135s 86ms/step - loss: 1.9008e-04\n",
      "Epoch 13/100\n",
      "1562/1562 [==============================] - 135s 86ms/step - loss: 1.8868e-04\n",
      "Epoch 14/100\n",
      "1562/1562 [==============================] - 135s 86ms/step - loss: 1.8530e-04\n",
      "Epoch 15/100\n",
      "1562/1562 [==============================] - 135s 86ms/step - loss: 1.8515e-04\n",
      "Epoch 16/100\n",
      "1562/1562 [==============================] - 135s 86ms/step - loss: 1.8068e-04\n",
      "Epoch 17/100\n",
      "1562/1562 [==============================] - 135s 86ms/step - loss: 1.7777e-04\n",
      "Epoch 18/100\n",
      "1562/1562 [==============================] - 135s 86ms/step - loss: 1.7197e-04\n",
      "Epoch 19/100\n",
      "1562/1562 [==============================] - 135s 86ms/step - loss: 1.7163e-04\n",
      "Epoch 20/100\n",
      "1562/1562 [==============================] - 135s 86ms/step - loss: 1.6885e-04\n",
      "Epoch 21/100\n",
      "1562/1562 [==============================] - 135s 86ms/step - loss: 1.6915e-04\n",
      "Epoch 22/100\n",
      "1562/1562 [==============================] - 135s 86ms/step - loss: 1.6356e-04\n",
      "Epoch 23/100\n",
      "1562/1562 [==============================] - 135s 86ms/step - loss: 1.6476e-04\n",
      "Epoch 24/100\n",
      "1562/1562 [==============================] - 135s 86ms/step - loss: 1.6253e-04\n",
      "Epoch 25/100\n",
      "1562/1562 [==============================] - 135s 86ms/step - loss: 1.6316e-04\n",
      "Epoch 26/100\n",
      "1562/1562 [==============================] - 135s 86ms/step - loss: 1.6239e-04\n",
      "Epoch 27/100\n",
      "1562/1562 [==============================] - 135s 86ms/step - loss: 1.5846e-04\n",
      "Epoch 28/100\n",
      "1562/1562 [==============================] - 135s 86ms/step - loss: 1.5895e-04\n",
      "Epoch 29/100\n",
      "1562/1562 [==============================] - 135s 86ms/step - loss: 1.5863e-04\n",
      "Epoch 30/100\n",
      "1562/1562 [==============================] - 135s 86ms/step - loss: 1.5773e-04\n",
      "Epoch 31/100\n",
      "1562/1562 [==============================] - 135s 86ms/step - loss: 1.5669e-04\n",
      "Epoch 32/100\n",
      "1562/1562 [==============================] - 135s 86ms/step - loss: 1.5710e-04\n",
      "Epoch 33/100\n",
      "1562/1562 [==============================] - 135s 86ms/step - loss: 1.5215e-04\n",
      "Epoch 34/100\n",
      "1562/1562 [==============================] - 135s 86ms/step - loss: 1.5486e-04\n",
      "Epoch 35/100\n",
      "1562/1562 [==============================] - 135s 86ms/step - loss: 1.5287e-04\n",
      "Epoch 36/100\n",
      "1562/1562 [==============================] - 135s 86ms/step - loss: 1.5522e-04\n",
      "Epoch 37/100\n",
      "1562/1562 [==============================] - 135s 86ms/step - loss: 1.5191e-04\n",
      "Epoch 38/100\n",
      "1562/1562 [==============================] - 135s 86ms/step - loss: 1.5234e-04\n",
      "Epoch 39/100\n",
      "1562/1562 [==============================] - 135s 86ms/step - loss: 1.5172e-04\n",
      "Epoch 40/100\n",
      "1562/1562 [==============================] - 135s 87ms/step - loss: 1.5097e-04\n",
      "Epoch 41/100\n",
      "1562/1562 [==============================] - 135s 86ms/step - loss: 1.5169e-04\n",
      "Epoch 42/100\n",
      "1562/1562 [==============================] - 135s 86ms/step - loss: 1.5091e-04\n",
      "Epoch 43/100\n",
      "1562/1562 [==============================] - 135s 87ms/step - loss: 1.5105e-04\n",
      "Epoch 44/100\n",
      "1562/1562 [==============================] - 135s 86ms/step - loss: 1.4938e-04\n",
      "Epoch 45/100\n",
      "1562/1562 [==============================] - 135s 87ms/step - loss: 1.5200e-04\n",
      "Epoch 46/100\n",
      "1562/1562 [==============================] - 135s 86ms/step - loss: 1.4898e-04\n",
      "Epoch 47/100\n",
      "1562/1562 [==============================] - 135s 86ms/step - loss: 1.4709e-04\n",
      "Epoch 48/100\n",
      "1562/1562 [==============================] - 135s 87ms/step - loss: 1.4850e-04\n",
      "Epoch 49/100\n",
      "1562/1562 [==============================] - 135s 87ms/step - loss: 1.4783e-04\n",
      "Epoch 50/100\n",
      "1562/1562 [==============================] - 135s 87ms/step - loss: 1.4646e-04\n",
      "Epoch 51/100\n",
      "1562/1562 [==============================] - 135s 87ms/step - loss: 1.4613e-04\n",
      "Epoch 52/100\n",
      "1562/1562 [==============================] - 135s 87ms/step - loss: 1.4646e-04\n",
      "Epoch 53/100\n",
      "1562/1562 [==============================] - 135s 87ms/step - loss: 1.4471e-04\n",
      "Epoch 54/100\n",
      "1562/1562 [==============================] - 135s 87ms/step - loss: 1.4661e-04\n",
      "Epoch 55/100\n",
      "1562/1562 [==============================] - 135s 87ms/step - loss: 1.4805e-04\n",
      "Epoch 56/100\n",
      "1562/1562 [==============================] - 135s 87ms/step - loss: 1.4516e-04\n",
      "Epoch 57/100\n",
      "1562/1562 [==============================] - 135s 87ms/step - loss: 1.4720e-04\n",
      "Epoch 58/100\n",
      "1562/1562 [==============================] - 135s 87ms/step - loss: 1.4369e-04\n",
      "Epoch 59/100\n",
      "1562/1562 [==============================] - 135s 87ms/step - loss: 1.4467e-04\n",
      "Epoch 60/100\n",
      "1562/1562 [==============================] - 135s 87ms/step - loss: 1.4507e-04\n",
      "Epoch 61/100\n",
      "1562/1562 [==============================] - 135s 87ms/step - loss: 1.4518e-04\n",
      "Epoch 62/100\n",
      "1562/1562 [==============================] - 135s 87ms/step - loss: 1.4489e-04\n",
      "Epoch 63/100\n",
      "1562/1562 [==============================] - 135s 87ms/step - loss: 1.4183e-04\n",
      "Epoch 64/100\n",
      "1562/1562 [==============================] - 135s 87ms/step - loss: 1.4306e-04\n",
      "Epoch 65/100\n",
      "1562/1562 [==============================] - 135s 87ms/step - loss: 1.4259e-04\n",
      "Epoch 66/100\n",
      "1562/1562 [==============================] - 135s 87ms/step - loss: 1.4226e-04\n",
      "Epoch 67/100\n",
      "1562/1562 [==============================] - 135s 86ms/step - loss: 1.4269e-04\n",
      "Epoch 68/100\n",
      "1562/1562 [==============================] - 135s 87ms/step - loss: 1.4233e-04\n",
      "Epoch 69/100\n",
      "1562/1562 [==============================] - 135s 86ms/step - loss: 1.4161e-04\n",
      "Epoch 70/100\n",
      "1562/1562 [==============================] - 135s 87ms/step - loss: 1.4088e-04\n",
      "Epoch 71/100\n",
      "1562/1562 [==============================] - 135s 87ms/step - loss: 1.4262e-04\n",
      "Epoch 72/100\n",
      "1562/1562 [==============================] - 135s 86ms/step - loss: 1.4109e-04\n",
      "Epoch 73/100\n",
      "1562/1562 [==============================] - 135s 86ms/step - loss: 1.4142e-04\n",
      "Epoch 74/100\n",
      "1562/1562 [==============================] - 135s 87ms/step - loss: 1.4121e-04\n",
      "Epoch 75/100\n",
      "1562/1562 [==============================] - 135s 87ms/step - loss: 1.4188e-04\n",
      "Epoch 76/100\n",
      "1562/1562 [==============================] - 135s 86ms/step - loss: 1.4120e-04\n",
      "Epoch 77/100\n",
      "1562/1562 [==============================] - 135s 86ms/step - loss: 1.4050e-04\n",
      "Epoch 78/100\n",
      "1562/1562 [==============================] - 135s 87ms/step - loss: 1.4177e-04\n",
      "Epoch 79/100\n",
      "1562/1562 [==============================] - 135s 87ms/step - loss: 1.4214e-04\n",
      "Epoch 80/100\n",
      "1562/1562 [==============================] - 135s 86ms/step - loss: 1.4042e-04\n",
      "Epoch 81/100\n",
      "1562/1562 [==============================] - 135s 86ms/step - loss: 1.4083e-04\n",
      "Epoch 82/100\n",
      "1562/1562 [==============================] - 135s 86ms/step - loss: 1.4043e-04\n",
      "Epoch 83/100\n",
      "1562/1562 [==============================] - 135s 86ms/step - loss: 1.3880e-04\n",
      "Epoch 84/100\n",
      "1562/1562 [==============================] - 135s 86ms/step - loss: 1.3896e-04\n",
      "Epoch 85/100\n",
      "1562/1562 [==============================] - 135s 87ms/step - loss: 1.4086e-04\n",
      "Epoch 86/100\n",
      "1562/1562 [==============================] - 135s 86ms/step - loss: 1.3914e-04\n",
      "Epoch 87/100\n",
      "1562/1562 [==============================] - 135s 86ms/step - loss: 1.4046e-04\n",
      "Epoch 88/100\n",
      "1562/1562 [==============================] - 135s 86ms/step - loss: 1.3738e-04\n",
      "Epoch 89/100\n",
      "1562/1562 [==============================] - 135s 86ms/step - loss: 1.3892e-04\n",
      "Epoch 90/100\n"
     ]
    },
    {
     "name": "stdout",
     "output_type": "stream",
     "text": [
      "1562/1562 [==============================] - 135s 86ms/step - loss: 1.3847e-04\n",
      "Epoch 91/100\n",
      "1562/1562 [==============================] - 135s 86ms/step - loss: 1.3780e-04\n",
      "Epoch 92/100\n",
      "1562/1562 [==============================] - 135s 86ms/step - loss: 1.3919e-04\n",
      "Epoch 93/100\n",
      "1562/1562 [==============================] - 135s 86ms/step - loss: 1.3952e-04\n",
      "Epoch 94/100\n",
      "1562/1562 [==============================] - 135s 86ms/step - loss: 1.3755e-04\n",
      "Epoch 95/100\n",
      "1562/1562 [==============================] - 135s 86ms/step - loss: 1.3955e-04\n",
      "Epoch 96/100\n",
      "1562/1562 [==============================] - 135s 86ms/step - loss: 1.3579e-04\n",
      "Epoch 97/100\n",
      "1562/1562 [==============================] - 135s 86ms/step - loss: 1.4082e-04\n",
      "Epoch 98/100\n",
      "1562/1562 [==============================] - 135s 86ms/step - loss: 1.3658e-04\n",
      "Epoch 99/100\n",
      "1562/1562 [==============================] - 135s 86ms/step - loss: 1.3915e-04\n",
      "Epoch 100/100\n",
      "1562/1562 [==============================] - 135s 86ms/step - loss: 1.3671e-04\n"
     ]
    },
    {
     "data": {
      "text/plain": [
       "<keras.callbacks.History at 0x7f990043c898>"
      ]
     },
     "execution_count": 10,
     "metadata": {},
     "output_type": "execute_result"
    }
   ],
   "source": [
    "# Train model - repeat adding LSTM layers w/ dropout layers to prevent overfitting\n",
    "model = Sequential()\n",
    "model.add(LSTM(units=100,return_sequences=True,input_shape=(X_train.shape[1], 1)))\n",
    "model.add(Dropout(0.2))\n",
    "model.add(LSTM(units=100,return_sequences=True))\n",
    "model.add(Dropout(0.2))\n",
    "model.add(LSTM(units=100,return_sequences=True))\n",
    "model.add(Dropout(0.2))\n",
    "model.add(LSTM(units=100))\n",
    "model.add(Dropout(0.2))\n",
    "model.add(Dense(units=900))\n",
    "model.compile(optimizer='adam',loss='mean_squared_error')\n",
    "\n",
    "# Runs for 100 epochs w/ batches of 32 - learns to make predictions from x_train and minimize MSE in y_train\n",
    "model.fit(X_train,y_train,epochs=100,batch_size=64)"
   ]
  },
  {
   "cell_type": "code",
   "execution_count": 11,
   "id": "00d3f90a",
   "metadata": {},
   "outputs": [],
   "source": [
    "from keras.models import load_model\n",
    "model.save('v2_model.h5')"
   ]
  },
  {
   "cell_type": "code",
   "execution_count": 12,
   "id": "22883937",
   "metadata": {},
   "outputs": [],
   "source": [
    "# Read testing data\n",
    "dataset_test = pd.read_csv('./../storage/v4_21milrows.csv', skiprows=range(1, 100000), nrows=100000)"
   ]
  },
  {
   "cell_type": "code",
   "execution_count": 13,
   "id": "d291397f",
   "metadata": {},
   "outputs": [],
   "source": [
    "# Currently excluding DateTime (string) and support + resistance\n",
    "exclude = ['DateTime', 'Support', 'Resistance']"
   ]
  },
  {
   "cell_type": "code",
   "execution_count": 14,
   "id": "757434e4",
   "metadata": {},
   "outputs": [],
   "source": [
    "dataset_test = dataset_test.drop(columns=exclude)"
   ]
  },
  {
   "cell_type": "code",
   "execution_count": 15,
   "id": "5a2a68ab",
   "metadata": {},
   "outputs": [],
   "source": [
    "# Filter out NaN and inf values (MinMaxScaler can't handle)\n",
    "dataset_test = dataset_test.fillna(0)\n",
    "dataset_test = dataset_test.replace(np.inf, 9999)\n",
    "dataset_test = dataset_test.replace(-np.inf, -9999)"
   ]
  },
  {
   "cell_type": "code",
   "execution_count": 16,
   "id": "0d02005d",
   "metadata": {},
   "outputs": [],
   "source": [
    "# Store actual stock prices (1000)\n",
    "real_stock_prices = dataset_test['Last'].values"
   ]
  },
  {
   "cell_type": "code",
   "execution_count": 17,
   "id": "ebab645d",
   "metadata": {},
   "outputs": [],
   "source": [
    "# Convert data into numpy array - use float32 to save memory\n",
    "testing_set = dataset_test.values.astype('float32')"
   ]
  },
  {
   "cell_type": "code",
   "execution_count": 18,
   "id": "1d23f1ce",
   "metadata": {},
   "outputs": [],
   "source": [
    "# Merge sets\n",
    "dataset_total = pd.concat((dataset_train, dataset_test), axis=0)"
   ]
  },
  {
   "cell_type": "code",
   "execution_count": 19,
   "id": "8ac4521e",
   "metadata": {},
   "outputs": [],
   "source": [
    "inputs = dataset_total[len(dataset_total) - len(dataset_test) - 60:].values"
   ]
  },
  {
   "cell_type": "code",
   "execution_count": 20,
   "id": "d6dc9acd",
   "metadata": {},
   "outputs": [],
   "source": [
    "inputs = inputs.reshape(-1,12)\n",
    "inputs = sc.transform(inputs)"
   ]
  },
  {
   "cell_type": "code",
   "execution_count": 21,
   "id": "afd462d5",
   "metadata": {},
   "outputs": [],
   "source": [
    "# Prepare test sequences (60-1060) signifies predicting next 1000 timesteps\n",
    "X_test = []\n",
    "for i in range(60, 100060):\n",
    "    X_test.append(inputs[i-60:i, 0])\n",
    "X_test = np.array(X_test)\n",
    "X_test = np.reshape(X_test, (X_test.shape[0], X_test.shape[1], 1))"
   ]
  },
  {
   "cell_type": "code",
   "execution_count": 22,
   "id": "684246e6",
   "metadata": {},
   "outputs": [
    {
     "ename": "ValueError",
     "evalue": "operands could not be broadcast together with shapes (100000,900) (12,) (100000,900) ",
     "output_type": "error",
     "traceback": [
      "\u001b[0;31m---------------------------------------------------------------------------\u001b[0m",
      "\u001b[0;31mValueError\u001b[0m                                Traceback (most recent call last)",
      "\u001b[0;32m<ipython-input-22-307e117eca24>\u001b[0m in \u001b[0;36m<module>\u001b[0;34m\u001b[0m\n\u001b[1;32m      1\u001b[0m \u001b[0mpredicted_stock_features\u001b[0m \u001b[0;34m=\u001b[0m \u001b[0mmodel\u001b[0m\u001b[0;34m.\u001b[0m\u001b[0mpredict\u001b[0m\u001b[0;34m(\u001b[0m\u001b[0mX_test\u001b[0m\u001b[0;34m)\u001b[0m\u001b[0;34m\u001b[0m\u001b[0;34m\u001b[0m\u001b[0m\n\u001b[0;32m----> 2\u001b[0;31m \u001b[0mpredicted_stock_features\u001b[0m \u001b[0;34m=\u001b[0m \u001b[0msc\u001b[0m\u001b[0;34m.\u001b[0m\u001b[0minverse_transform\u001b[0m\u001b[0;34m(\u001b[0m\u001b[0mpredicted_stock_features\u001b[0m\u001b[0;34m)\u001b[0m\u001b[0;34m\u001b[0m\u001b[0;34m\u001b[0m\u001b[0m\n\u001b[0m",
      "\u001b[0;32m~/Trading/env/lib64/python3.6/site-packages/sklearn/preprocessing/_data.py\u001b[0m in \u001b[0;36minverse_transform\u001b[0;34m(self, X)\u001b[0m\n\u001b[1;32m    459\u001b[0m                         force_all_finite=\"allow-nan\")\n\u001b[1;32m    460\u001b[0m \u001b[0;34m\u001b[0m\u001b[0m\n\u001b[0;32m--> 461\u001b[0;31m         \u001b[0mX\u001b[0m \u001b[0;34m-=\u001b[0m \u001b[0mself\u001b[0m\u001b[0;34m.\u001b[0m\u001b[0mmin_\u001b[0m\u001b[0;34m\u001b[0m\u001b[0;34m\u001b[0m\u001b[0m\n\u001b[0m\u001b[1;32m    462\u001b[0m         \u001b[0mX\u001b[0m \u001b[0;34m/=\u001b[0m \u001b[0mself\u001b[0m\u001b[0;34m.\u001b[0m\u001b[0mscale_\u001b[0m\u001b[0;34m\u001b[0m\u001b[0;34m\u001b[0m\u001b[0m\n\u001b[1;32m    463\u001b[0m         \u001b[0;32mreturn\u001b[0m \u001b[0mX\u001b[0m\u001b[0;34m\u001b[0m\u001b[0;34m\u001b[0m\u001b[0m\n",
      "\u001b[0;31mValueError\u001b[0m: operands could not be broadcast together with shapes (100000,900) (12,) (100000,900) "
     ]
    }
   ],
   "source": [
    "predicted_stock_features = model.predict(X_test)\n",
    "predicted_stock_features = sc.inverse_transform(predicted_stock_features)"
   ]
  },
  {
   "cell_type": "code",
   "execution_count": 28,
   "id": "c3738563",
   "metadata": {},
   "outputs": [],
   "source": [
    "# Get only last prices (4th feature)\n",
    "predicted_stock_prices = predicted_stock_features[:, 3]\n"
   ]
  },
  {
   "cell_type": "code",
   "execution_count": 29,
   "id": "b54fa41c",
   "metadata": {},
   "outputs": [
    {
     "data": {
      "image/png": "[encoded data removed]",
      "text/plain": [
       "<Figure size 432x288 with 1 Axes>"
      ]
     },
     "metadata": {
      "needs_background": "light"
     },
     "output_type": "display_data"
    }
   ],
   "source": [
    "plt.plot(real_stock_prices, color='black', label='Real Stock Price')\n",
    "plt.plot(predicted_stock_prices, color='green', label='Predicted Stock Price')\n",
    "plt.title('Stock Price Prediction')\n",
    "plt.xlabel('Time')\n",
    "plt.ylabel('Stock Price')\n",
    "plt.legend()\n",
    "plt.show()"
   ]
  },
  {
   "cell_type": "code",
   "execution_count": null,
   "id": "a646536b",
   "metadata": {},
   "outputs": [],
   "source": []
  }
 ],
 "metadata": {
  "kernelspec": {
   "display_name": "Python 3",
   "language": "python",
   "name": "python3"
  },
  "language_info": {
   "codemirror_mode": {
    "name": "ipython",
    "version": 3
   },
   "file_extension": ".py",
   "mimetype": "text/x-python",
   "name": "python",
   "nbconvert_exporter": "python",
   "pygments_lexer": "ipython3",
   "version": "3.6.8"
  }
 },
 "nbformat": 4,
 "nbformat_minor": 5
}
